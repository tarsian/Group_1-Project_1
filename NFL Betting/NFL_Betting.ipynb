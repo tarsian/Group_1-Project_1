{
 "cells": [
  {
   "cell_type": "code",
   "execution_count": null,
   "metadata": {},
   "outputs": [],
   "source": [
    "# Filter data for Kansas City Chiefs games\n",
    "chiefs_games_home = last_5_years_df[last_5_years_df['team_home_abbr'] == 'KC']\n",
    "chiefs_games_away = last_5_years_df[last_5_years_df['team_away_abbr'] == 'KC']\n",
    "chiefs_games = pd.concat([chiefs_games_home, chiefs_games_away])\n",
    "\n",
    "# Filter games where Kansas City Chiefs won\n",
    "chiefs_wins_home = last_5_years_df[(last_5_years_df['team_home_abbr'] == 'KC') & (last_5_years_df['score_home'] > last_5_years_df['score_away'])]\n",
    "chiefs_wins_away = last_5_years_df[(last_5_years_df['team_away_abbr'] == 'KC') & (last_5_years_df['score_away'] > last_5_years_df['score_home'])]\n",
    "# Filter games where Kansas City Chiefs lost\n",
    "chiefs_losses_home = last_5_years_df[(last_5_years_df['team_home_abbr'] == 'KC') & (last_5_years_df['score_home'] < last_5_years_df['score_away'])]\n",
    "chiefs_losses_away = last_5_years_df[(last_5_years_df['team_away_abbr'] == 'KC') & (last_5_years_df['score_away'] < last_5_years_df['score_home'])]"
   ]
  },
  {
   "cell_type": "code",
   "execution_count": null,
   "id": "e4b40d18",
   "metadata": {},
   "outputs": [],
   "source": [
    "# Scatter plot for games won and lost by Kansas City Chiefs as the home team\n",
    "plt.figure(figsize=(10, 6))\n",
    "\n",
    "# Scatter plot for games won\n",
    "plt.scatter(chiefs_wins_home['schedule_season'], chiefs_wins_home['score_home'], c='blue', alpha=0.5, label='Chiefs Win - Home')\n",
    "plt.scatter(chiefs_wins_away['schedule_season'], chiefs_wins_away['score_home'], c='red', alpha=0.5, label='Chiefs Win - Away')\n",
    "# Scatter plot for games lost\n",
    "plt.scatter(chiefs_losses_home['schedule_season'], chiefs_losses_home['score_home'], c='green', alpha=0.5, label='Chiefs Loss - Home')\n",
    "plt.scatter(chiefs_losses_away['schedule_season'], chiefs_losses_away['score_home'], c='yellow', alpha=0.5, label='Chiefs Loss - Away')\n",
    "\n",
    "plt.title('Games by Kansas City Chiefs as Home Team (Last 5 Years)')\n",
    "plt.xlabel('Date')\n",
    "plt.ylabel('Score')\n",
    "plt.legend()\n",
    "plt.xticks(chiefs_wins_home['schedule_season'].unique(), rotation=45)\n",
    "plt.grid(True)\n",
    "plt.tight_layout()\n",
    "plt.show()\n"
   ]
  }
 ],
 "metadata": {
  "kernelspec": {
   "display_name": "dev",
   "language": "python",
   "name": "python3"
  },
  "language_info": {
   "name": "python",
   "version": "3.10.14"
  }
 },
 "nbformat": 4,
 "nbformat_minor": 5
}
