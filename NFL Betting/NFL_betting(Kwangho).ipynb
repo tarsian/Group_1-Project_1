{
 "cells": [
  {
   "cell_type": "markdown",
   "id": "6bc04af3",
   "metadata": {},
   "source": [
    "# 1. Prepare & Data Cleaning & Filtering"
   ]
  },
  {
   "cell_type": "markdown",
   "id": "91db574e",
   "metadata": {},
   "source": [
    "-   Build Base Datas to Start the Code"
   ]
  },
  {
   "cell_type": "code",
   "execution_count": null,
   "id": "9950861d-6ec1-48f3-a6d8-45f652249fd6",
   "metadata": {},
   "outputs": [],
   "source": [
    "# Dependencies and Setup\n",
    "import matplotlib.pyplot as plt\n",
    "import pandas as pd\n",
    "import numpy as np\n",
    "import os\n",
    "from scipy.stats import linregress\n",
    "\n",
    "# Path to CSV file\n",
    "spreadspoke_scores_file = \"../CSV_Files/spreadspoke_scores.csv\"\n",
    "nfl_teams_file = \"../CSV_Files/nfl_teams.csv\"\n",
    "# Read CSV file into DataFrame\n",
    "spreadspoke_scores_df = pd.read_csv(spreadspoke_scores_file)\n",
    "nfl_teams_df = pd.read_csv(nfl_teams_file)\n",
    "\n",
    "# Data inspection\n",
    "spreadspoke_scores_df\n",
    "# nfl_teams_df"
   ]
  },
  {
   "cell_type": "code",
   "execution_count": null,
   "id": "9e5a8fb7",
   "metadata": {},
   "outputs": [],
   "source": [
    "# Change Abbreviation with Old Abbreviation to Recent Abbreviation\n",
    "nfl_teams_df['Abbreviation'] = nfl_teams_df['Abbreviation'].replace('LV', 'LVR')\n",
    "spreadspoke_scores_df['team_favorite_id'] = spreadspoke_scores_df['team_favorite_id'].replace('LV', 'LVR')\n",
    "\n",
    "# Data cleaning and filtering\n",
    "# nfl_teams_clean_df = nfl_teams_df.drop(columns=['Conference', 'Division'])\n",
    "last_5_years_df = spreadspoke_scores_df[spreadspoke_scores_df['schedule_season'] >= 2019]\n",
    "clean_df = last_5_years_df.drop(columns=['stadium', 'stadium_neutral', 'weather_temperature', 'weather_wind_mph',\n",
    "                              'weather_humidity', 'weather_detail', 'spread_favorite', 'over_under_line'])\n",
    "clean_df['Result'] = ''\n",
    "\n",
    "clean_df"
   ]
  },
  {
   "cell_type": "markdown",
   "id": "41a79b88",
   "metadata": {},
   "source": [
    "-   Preparing for saving image datas"
   ]
  },
  {
   "cell_type": "code",
   "execution_count": null,
   "id": "61b00408",
   "metadata": {},
   "outputs": [],
   "source": [
    "# Save Graph Images to Directed Folder\n",
    "save_dir = \"../Images\"\n",
    "if not os.path.exists(save_dir):\n",
    "    os.makedirs(save_dir)"
   ]
  },
  {
   "cell_type": "markdown",
   "id": "461557bf",
   "metadata": {},
   "source": [
    "-   Mapping data names so that Abbreviation and Team name can mix"
   ]
  },
  {
   "cell_type": "code",
   "execution_count": null,
   "id": "7d5674c0",
   "metadata": {},
   "outputs": [],
   "source": [
    "# Create a dictionary mapping team names to abbreviations\n",
    "team_mapping = {\n",
    "    'Kansas City Chiefs': 'KC',\n",
    "    'Arizona Cardinals': 'ARI',\n",
    "    'Atlanta Falcons': 'ATL',\n",
    "    'Baltimore Ravens': 'BAL',\n",
    "    'Buffalo Bills': 'BUF',\n",
    "    'Carolina Panthers': 'CAR',\n",
    "    'Chicago Bears': 'CHI',\n",
    "    'Cincinnati Bengals': 'CIN',\n",
    "    'Cleveland Browns': 'CLE',\n",
    "    'Dallas Cowboys': 'DAL',\n",
    "    'Denver Broncos': 'DEN',\n",
    "    'Detroit Lions': 'DET',\n",
    "    'Green Bay Packers': 'GB',\n",
    "    'Houston Texans': 'HOU',\n",
    "    'Indianapolis Colts': 'IND',\n",
    "    'Jacksonville Jaguars': 'JAX',\n",
    "    'Las Vegas Raiders': 'LVR',\n",
    "    'Los Angeles Chargers': 'LAC',\n",
    "    'Los Angeles Rams': 'LAR',\n",
    "    'Miami Dolphins': 'MIA',\n",
    "    'Minnesota Vikings': 'MIN',\n",
    "    'New England Patriots': 'NE',\n",
    "    'New Orleans Saints': 'NO',\n",
    "    'New York Giants': 'NYG',\n",
    "    'New York Jets': 'NYJ',\n",
    "    'Philadelphia Eagles': 'PHI',\n",
    "    'Pittsburgh Steelers': 'PIT',\n",
    "    'San Francisco 49ers': 'SF',\n",
    "    'Seattle Seahawks': 'SEA',\n",
    "    'Tampa Bay Buccaneers': 'TB',\n",
    "    'Tennessee Titans': 'TEN',\n",
    "    'Washington Commanders': 'WAS'\n",
    "}\n",
    "\n",
    "# Apply the mapping to team_home and team_away columns\n",
    "last_5_years_df['team_home_abbr'] = last_5_years_df['team_home'].map(team_mapping)\n",
    "last_5_years_df['team_away_abbr'] = last_5_years_df['team_away'].map(team_mapping)\n"
   ]
  },
  {
   "cell_type": "code",
   "execution_count": null,
   "id": "f92b1a4c",
   "metadata": {},
   "outputs": [],
   "source": [
    "# Determine the resulting winner of each game and include the ID in the result column.\n",
    "for index, row in clean_df.iterrows():\n",
    "    if row['score_home'] > row['score_away']:\n",
    "        clean_df.at[index, 'result'] = row['team_home']\n",
    "    elif row['score_home'] < row['score_away']:\n",
    "        clean_df.at[index, 'result'] = row['team_away']\n",
    "    else:\n",
    "        clean_df.at[index, 'result'] = 'Tie'\n",
    "\n",
    "clean_df"
   ]
  },
  {
   "cell_type": "markdown",
   "id": "fe2c13a6",
   "metadata": {},
   "source": [
    "# 2. Calculation & Visual Datas"
   ]
  },
  {
   "cell_type": "code",
   "execution_count": null,
   "id": "2360fb4c",
   "metadata": {},
   "outputs": [],
   "source": [
    "# Each team played count\n",
    "games_played_by_team = clean_df['team_home'].value_counts() + clean_df['team_away'].value_counts()\n",
    "games_played_by_team_df = games_played_by_team.reset_index()\n",
    "games_played_by_team_df.columns = ['Name', 'Total played Game']\n",
    "games_played_by_team_df"
   ]
  },
  {
   "cell_type": "code",
   "execution_count": null,
   "id": "7e3ddba7",
   "metadata": {},
   "outputs": [],
   "source": [
    "# Count of favorite team appearances\n",
    "team_favorite_count = clean_df[\"team_favorite_id\"].value_counts()\n",
    "team_favorite_count_df = team_favorite_count.reset_index()\n",
    "team_favorite_count_df.columns = ['Abbreviation', 'Favorite Pick Count']\n",
    "team_favorite_count_df"
   ]
  },
  {
   "cell_type": "code",
   "execution_count": null,
   "id": "ea230761",
   "metadata": {},
   "outputs": [],
   "source": [
    "# Generate Bar Graph\n",
    "team_favorite_count_df.plot(kind='bar', x='Abbreviation', y='Favorite Pick Count', color='blue', figsize=(12, 6))\n",
    "\n",
    "# Labeling x-axis and y-axis\n",
    "plt.title(\"Team Favorite Picked\")\n",
    "plt.xlabel('Team Abbreviation')\n",
    "plt.ylabel('Favorite Pick Count')\n",
    "\n",
    "# Save plot\n",
    "plt.tight_layout()\n",
    "plt.savefig(os.path.join(save_dir, 'Team Favorite Picked.png'))\n",
    "plt.show()"
   ]
  },
  {
   "cell_type": "code",
   "execution_count": null,
   "id": "75b96dee",
   "metadata": {},
   "outputs": [],
   "source": [
    "# Count of favorite team appearances\n",
    "favorite_wins_home = clean_df[clean_df[\"score_home\"] > clean_df[\"score_away\"]][\"result\"].value_counts()\n",
    "favorite_wins_away = clean_df[clean_df[\"score_away\"] > clean_df[\"score_home\"]][\"result\"].value_counts()\n",
    "favorite_wins = favorite_wins_home + favorite_wins_away\n",
    "favorite_wins_df = favorite_wins.reset_index()\n",
    "favorite_wins_df.columns = ['Name', 'Win Count']\n",
    "favorite_wins_df"
   ]
  },
  {
   "cell_type": "code",
   "execution_count": null,
   "id": "6e7f0213",
   "metadata": {},
   "outputs": [],
   "source": [
    "# Create Graph\n",
    "favorite_wins_df.plot(kind='bar', x='Name', y='Win Count', color='blue', figsize=(12, 6))\n",
    "\n",
    "# Labeling Title and labels\n",
    "plt.title('Win Count by Team')\n",
    "plt.xlabel('Team Abbreviation')\n",
    "plt.ylabel('Win Count')\n",
    "\n",
    "# Save plot\n",
    "plt.tight_layout()\n",
    "plt.savefig(os.path.join(save_dir, 'win_count_by_team.png'))\n",
    "plt.show()"
   ]
  },
  {
   "cell_type": "markdown",
   "id": "ec3313de",
   "metadata": {},
   "source": [
    "# 3. Merging Datas"
   ]
  },
  {
   "cell_type": "markdown",
   "id": "6b87040d",
   "metadata": {},
   "source": [
    "-   Merging Datas into one Dataframe"
   ]
  },
  {
   "cell_type": "code",
   "execution_count": null,
   "id": "77ba6556",
   "metadata": {},
   "outputs": [],
   "source": [
    "# Merge Dateframes\n",
    "merged_f_t = pd.merge(favorite_wins_df, nfl_teams_df, on='Name')\n",
    "merged_df = pd.merge(merged_f_t, team_favorite_count_df, on='Abbreviation')\n",
    "merged_Data = pd.merge(merged_df, games_played_by_team_df, on='Name')\n",
    "\n",
    "# Create List for Value of 'Favorite Pick' and 'Win Count'\n",
    "favorite_picks = []\n",
    "Total_played_Game = []\n",
    "win_rates = []\n",
    "\n",
    "# Each Team Favorite Pick Calculation and add to merged_df\n",
    "for index, row in merged_Data.iterrows():\n",
    "    favorite_pick = row['Win Count'] + (row['Favorite Pick Count'] - row['Win Count'])\n",
    "    favorite_picks.append(favorite_pick)\n",
    "merged_Data['Favorite Pick Count'] = favorite_picks\n",
    "\n",
    "# Each Team 'Win Count' Calculation and add to merged_df\n",
    "for index, row in merged_Data.iterrows():\n",
    "    win_rate = row['Win Count'] / row['Total played Game'] * 100\n",
    "    win_rates.append(round(win_rate, 2))\n",
    "merged_Data['Win Rate'] = win_rates"
   ]
  },
  {
   "cell_type": "code",
   "execution_count": null,
   "id": "22f7dd2a",
   "metadata": {},
   "outputs": [],
   "source": [
    "# Pie Graph for Win Count\n",
    "\"\"\"\n",
    "# Graph preparation\n",
    "plt.figure(figsize=(8, 8))\n",
    "\n",
    "# Assign data\n",
    "labels = merged_Data['Abbreviation']\n",
    "sizes = merged_Data['Win Count']\n",
    "\n",
    "# Define explode values for each section\n",
    "explode = [0.1] * len(labels)  # Adjust the values as per your preference\n",
    "\n",
    "# Draw pie chart\n",
    "plt.pie(sizes, labels=labels, autopct='%1.1f%%', startangle=140, explode=explode)\n",
    "\n",
    "# Add title\n",
    "plt.title('Win Count by Team')\n",
    "\n",
    "# Equal aspect ratio ensures that pie is drawn as a circle\n",
    "plt.axis('equal')\n",
    "\n",
    "# Save plot\n",
    "plt.tight_layout()\n",
    "plt.savefig(os.path.join(save_dir, 'win_count_pie_chart.png'))\n",
    "plt.show()\n",
    "\"\"\""
   ]
  },
  {
   "cell_type": "code",
   "execution_count": null,
   "id": "0c344b03",
   "metadata": {},
   "outputs": [],
   "source": [
    "# Reindex column\n",
    "new_column_order = ['ID', 'Name', 'Abbreviation', 'Total played Game', 'Win Count', 'Favorite Pick Count', 'Win Rate']\n",
    "clear_merge = merged_Data.reindex(columns=new_column_order)\n",
    "clear_merge"
   ]
  },
  {
   "cell_type": "code",
   "execution_count": null,
   "id": "6c89fb0b",
   "metadata": {},
   "outputs": [],
   "source": [
    "# Graph preparation\n",
    "plt.figure(figsize=(12, 6))\n",
    "\n",
    "# Assign data to x and y axes\n",
    "x = merged_Data['Abbreviation']\n",
    "y1 = merged_Data['Favorite Pick Count']\n",
    "y2 = merged_Data['Win Count']\n",
    "y3 = merged_Data['Win Rate']\n",
    "\n",
    "# Draw bar plot\n",
    "plt.bar(x, y1, color='skyblue', label='Favorite Pick Count')\n",
    "plt.bar(x, y2, color='salmon', label='Win Count')\n",
    "plt.plot(x, y3, color='green', marker='o', linestyle='-', linewidth=2, markersize=8, label='Win Rate (%)')\n",
    "\n",
    "# Add title and axis labels\n",
    "plt.title('Favorite Pick, Win Count, and Win Rate by Team')\n",
    "plt.xlabel('Team Abbreviation')\n",
    "plt.ylabel('Count')\n",
    "plt.xticks(rotation=45)  # Rotate x-axis labels\n",
    "\n",
    "# Add legend\n",
    "plt.legend()\n",
    "\n",
    "# Show plot\n",
    "plt.tight_layout()\n",
    "plt.savefig(os.path.join(save_dir, 'bar_plot_team_stats.png'))\n",
    "plt.show()\n"
   ]
  },
  {
   "cell_type": "markdown",
   "id": "9986082c",
   "metadata": {},
   "source": [
    "# 4. Calculation for Questions"
   ]
  },
  {
   "cell_type": "code",
   "execution_count": null,
   "id": "65485191",
   "metadata": {},
   "outputs": [],
   "source": [
    "# Calculate Moneyline\n",
    "def calculate_moneyline(clear_merge):\n",
    "    return 100 / clear_merge\n",
    "Moneyline_df = clear_merge\n",
    "# Add Moneyline to Dataframe\n",
    "Moneyline_df['Moneyline'] = Moneyline_df['Win Rate'].apply(calculate_moneyline)\n",
    "\n",
    "# Result\n",
    "Moneyline_df"
   ]
  },
  {
   "cell_type": "code",
   "execution_count": null,
   "id": "361f90b9",
   "metadata": {},
   "outputs": [],
   "source": [
    "# CSV 파일 경로 설정\n",
    "csv_file_path = \"../CSV_Files/Moneyline_df.csv\"\n",
    "\n",
    "# DataFrame을 CSV 파일로 저장\n",
    "Moneyline_df.to_csv(csv_file_path, index=False)"
   ]
  },
  {
   "cell_type": "code",
   "execution_count": null,
   "id": "50545185",
   "metadata": {},
   "outputs": [],
   "source": [
    "# Calculate linear regression\n",
    "slope, intercept, r_value, p_value, std_err = linregress(Moneyline_df['Win Count'], Moneyline_df['Moneyline'])\n",
    "\n",
    "# Scatter plot\n",
    "plt.figure(figsize=(10, 6))\n",
    "plt.scatter(Moneyline_df['Win Count'], Moneyline_df['Moneyline'], color='blue', label='Data')\n",
    "\n",
    "# Plot linear regression line\n",
    "plt.plot(Moneyline_df['Win Count'], intercept + slope * Moneyline_df['Win Count'], color='red', label='Linear Regression')\n",
    "\n",
    "# Labeling the plot\n",
    "plt.xlabel('Win Count')\n",
    "plt.ylabel('Moneyline')\n",
    "plt.title('Win Count and Moneyline Scattor Plot Linear Regression')\n",
    "plt.legend()\n",
    "\n",
    "# Display the plot\n",
    "plt.grid(True)\n",
    "plt.show()\n",
    "\n",
    "# correlation between Moneyline and Win Count\n",
    "correlation = Moneyline_df['Win Count'].corr(Moneyline_df['Moneyline'])\n",
    "print(\"Win Count and Moneyline Correlation:\", correlation)\n"
   ]
  },
  {
   "cell_type": "markdown",
   "id": "e375d9a9",
   "metadata": {},
   "source": [
    "- Negative correlation between Win Count and Moneyline with a correlation coefficient of '-0.91665315831753' on Win Count and Moneyline Scattor Plot Linear Regression."
   ]
  },
  {
   "cell_type": "code",
   "execution_count": null,
   "id": "916f21ee",
   "metadata": {},
   "outputs": [],
   "source": [
    "# Scatter plot with linear regression for Win Count and Moneyline\n",
    "plt.figure(figsize=(10, 6))\n",
    "plt.scatter(Moneyline_df['Win Count'], Moneyline_df['Moneyline'], color='green', label='Data')\n",
    "plt.plot(Moneyline_df['Win Count'], intercept + slope * Moneyline_df['Win Count'], color='red', label='Linear Regression')\n",
    "plt.xlabel('Win Count')\n",
    "plt.ylabel('Moneyline')\n",
    "plt.title('Scatter Plot with Linear Regression (Win Count vs Moneyline)')\n",
    "plt.legend()\n",
    "plt.grid(True)\n",
    "plt.savefig(os.path.join(save_dir, 'scatter_plot_win_count_vs_moneyline.png'))\n",
    "plt.close()"
   ]
  },
  {
   "cell_type": "code",
   "execution_count": null,
   "id": "8ba72bab",
   "metadata": {},
   "outputs": [],
   "source": [
    "# Calculate linear regression\n",
    "slope, intercept, r_value, p_value, std_err = linregress(Moneyline_df['Win Rate'], Moneyline_df['Moneyline'])\n",
    "\n",
    "# Scatter plot\n",
    "plt.figure(figsize=(10, 6))\n",
    "plt.scatter(Moneyline_df['Win Rate'], Moneyline_df['Moneyline'], color='blue', label='Data')\n",
    "\n",
    "# Plot linear regression line\n",
    "plt.plot(Moneyline_df['Win Rate'], intercept + slope * Moneyline_df['Win Rate'], color='red', label='Linear Regression')\n",
    "\n",
    "# Labeling the plot\n",
    "plt.xlabel('Win Rate')\n",
    "plt.ylabel('Moneyline')\n",
    "plt.title('Scatter Plot with Linear Regression')\n",
    "plt.legend()\n",
    "\n",
    "# Display the plot\n",
    "plt.grid(True)\n",
    "plt.show()\n",
    "# Save Image\n",
    "save_dir = \"../Images\"\n",
    "if not os.path.exists(save_dir):\n",
    "    os.makedirs(save_dir)\n",
    "plt.savefig(os.path.join(save_dir, 'scatter_plot_with_linear_regression.png'))\n",
    "plt.close()\n",
    "\n",
    "\n",
    "# Calculate correlation\n",
    "correlation = Moneyline_df['Win Rate'].corr(Moneyline_df['Moneyline'])\n",
    "print(\"Correlation between Win Rate and Moneyline:\", correlation)\n",
    "\n"
   ]
  },
  {
   "cell_type": "markdown",
   "id": "bf80a924",
   "metadata": {},
   "source": [
    " - Negative correlation between Win Rate and Moneyline with a correlation coefficient of '-0.9686600108909719' on Win Rate and Moneyline Scattor Plot Linear Regression."
   ]
  },
  {
   "cell_type": "code",
   "execution_count": null,
   "id": "96881eae",
   "metadata": {},
   "outputs": [],
   "source": [
    "# Scatter plot with linear regression\n",
    "plt.figure(figsize=(10, 6))\n",
    "plt.scatter(Moneyline_df['Win Rate'], Moneyline_df['Moneyline'], color='blue', label='Data')\n",
    "plt.plot(Moneyline_df['Win Rate'], intercept + slope * Moneyline_df['Win Rate'], color='red', label='Linear Regression')\n",
    "plt.xlabel('Win Rate')\n",
    "plt.ylabel('Moneyline')\n",
    "plt.title('Scatter Plot with Linear Regression')\n",
    "plt.legend()\n",
    "plt.grid(True)\n",
    "plt.savefig(os.path.join(save_dir, 'scatter_plot_with_linear_regression.png'))\n",
    "plt.close()"
   ]
  },
  {
   "cell_type": "code",
   "execution_count": null,
   "id": "e0dcce0f",
   "metadata": {},
   "outputs": [],
   "source": [
    "# Calculate win count for each team\n",
    "win_count_home = clean_df[clean_df['score_home'] > clean_df['score_away']]['team_home'].value_counts().reset_index()\n",
    "win_count_home.columns = ['Team', 'Win at Home']\n",
    "win_count_away = clean_df[clean_df['score_away'] > clean_df['score_home']]['team_away'].value_counts().reset_index()\n",
    "win_count_away.columns = ['Team', 'Win at Away']\n",
    "win_count = pd.concat([win_count_home, win_count_away]).groupby('Team').sum().reset_index()\n",
    "\n",
    "# Merge win counts for home and away games for each team\n",
    "win_total = win_count_home.merge(win_count_away, on='Team', how='outer').fillna(0)\n",
    "win_total['Win Total'] = win_total['Win at Home'] + win_total['Win at Away']\n",
    "\n",
    "# Calculate losses at home for each team\n",
    "losses_at_home = clean_df[clean_df['score_home'] < clean_df['score_away']]['team_home'].value_counts().reset_index()\n",
    "losses_at_home.columns = ['Team', 'Losses at Home']\n",
    "\n",
    "# Calculate losses away for each team\n",
    "losses_away = clean_df[clean_df['score_away'] < clean_df['score_home']]['team_away'].value_counts().reset_index()\n",
    "losses_away.columns = ['Team', 'Losses away']\n",
    "\n",
    "# Combine losses at home and away for each team\n",
    "losses_total = losses_at_home.merge(losses_away, on='Team', how='outer').fillna(0)\n",
    "losses_total['Total Losses'] = losses_total['Losses at Home'] + losses_total['Losses away']\n"
   ]
  },
  {
   "cell_type": "code",
   "execution_count": null,
   "id": "b4fba59b",
   "metadata": {},
   "outputs": [],
   "source": [
    "# Calculate total games played for each team\n",
    "total_games_home = clean_df['team_home'].value_counts().reset_index()\n",
    "total_games_home.columns = ['Team', 'Total Games']\n",
    "total_games_away = clean_df['team_away'].value_counts().reset_index()\n",
    "total_games_away.columns = ['Team', 'Total Games']\n",
    "total_games = pd.concat([total_games_home, total_games_away]).groupby('Team').sum().reset_index()\n",
    "\n",
    "# Calculate draw (tie) for each team\n",
    "draw_home = clean_df[clean_df['score_home'] == clean_df['score_away']]['team_home'].value_counts().reset_index()\n",
    "draw_home.columns = ['Team', 'Draw(Tie)']\n",
    "draw_away = clean_df[clean_df['score_away'] == clean_df['score_home']]['team_away'].value_counts().reset_index()\n",
    "draw_away.columns = ['Team', 'Draw(Tie)']\n",
    "draw_total = pd.concat([draw_home, draw_away]).groupby('Team').sum().reset_index()\n",
    "\n",
    "# Merge total games and draw counts\n",
    "draw_ratio = pd.merge(total_games, draw_total, on='Team', how='left').fillna(0)\n",
    "\n",
    "# Calculate draw ratio\n",
    "draw_ratio['Draw Ratio'] = draw_ratio['Draw(Tie)'] / draw_ratio['Total Games']\n",
    "\n",
    "# Find team with most draws\n",
    "most_draws = draw_ratio[draw_ratio['Draw Ratio'] == draw_ratio['Draw Ratio'].max()]"
   ]
  },
  {
   "cell_type": "code",
   "execution_count": null,
   "id": "040409e6",
   "metadata": {},
   "outputs": [],
   "source": [
    "# Merge win count, losses total, draw total, and total games dataframes\n",
    "team_stats = pd.merge(win_total, losses_total, on='Team', how='outer')\n",
    "team_stats = pd.merge(team_stats, draw_total, on='Team', how='outer')\n",
    "team_stats = pd.merge(team_stats, total_games, on='Team', how='outer')\n",
    "\n",
    "team_stats.head(10)\n"
   ]
  },
  {
   "cell_type": "code",
   "execution_count": null,
   "id": "bc9cfc49",
   "metadata": {},
   "outputs": [],
   "source": [
    "# Save as CSV file to located Direction\n",
    "csv_file_path = \"../CSV_Files/team_stats.csv\"\n",
    "team_stats.to_csv(csv_file_path, index=False)"
   ]
  },
  {
   "cell_type": "markdown",
   "id": "4444c6af",
   "metadata": {},
   "source": [
    "### Answer For the Questions"
   ]
  },
  {
   "cell_type": "markdown",
   "id": "d3179831",
   "metadata": {},
   "source": [
    "-   Answer for the Q1, Q2"
   ]
  },
  {
   "cell_type": "code",
   "execution_count": null,
   "id": "8436fa85",
   "metadata": {},
   "outputs": [],
   "source": [
    "# Favorite Team Picked and game information\n",
    "F_Team_rate = Moneyline_df.loc[Moneyline_df['Favorite Pick Count'].idxmax()]\n",
    "print('---------------------------------------------------')\n",
    "print(F_Team_rate)\n",
    "print('---------------------------------------------------')"
   ]
  },
  {
   "cell_type": "code",
   "execution_count": null,
   "id": "e9c26031",
   "metadata": {},
   "outputs": [],
   "source": [
    "# Find team with most total win and losses\n",
    "most_wins_total = win_total.loc[win_total['Win Total'].idxmax()]\n",
    "most_losses_total = losses_total.loc[losses_total['Total Losses'].idxmax()]\n",
    "print('---------------------------------------------------')\n",
    "print(\"Team with most total wins:\")\n",
    "print(most_wins_total)\n",
    "print('---------------------------------------------------')\n",
    "print(\"Team with most total losses:\")\n",
    "print(most_losses_total)\n",
    "print('---------------------------------------------------')"
   ]
  },
  {
   "cell_type": "code",
   "execution_count": null,
   "id": "8549055e",
   "metadata": {},
   "outputs": [],
   "source": [
    "most_losses_home = losses_at_home.loc[losses_at_home['Losses at Home'].idxmax()]\n",
    "most_losses_home"
   ]
  },
  {
   "cell_type": "code",
   "execution_count": null,
   "id": "08d875ea",
   "metadata": {},
   "outputs": [],
   "source": [
    "# Calculate correlation\n",
    "correlation = Moneyline_df['Favorite Pick Count'].corr(Moneyline_df['Win Rate'])\n",
    "print(\"Favorite Pick Count and Win Rate Correlation:\", correlation)\n",
    "\n",
    "# Calculate linear regression\n",
    "slope, intercept, r_value, p_value, std_err = linregress(Moneyline_df['Favorite Pick Count'], Moneyline_df['Win Rate'])\n",
    "\n",
    "# Scatter plot\n",
    "plt.figure(figsize=(10, 6))\n",
    "plt.scatter(Moneyline_df['Favorite Pick Count'], Moneyline_df['Win Rate'], color='blue', label='Data')\n",
    "\n",
    "# Plot linear regression line\n",
    "plt.plot(Moneyline_df['Favorite Pick Count'], intercept + slope * Moneyline_df['Favorite Pick Count'], color='red', label='Linear Regression')\n",
    "\n",
    "# Labeling the plot\n",
    "plt.xlabel('Favorite Pick Count')\n",
    "plt.ylabel('Win Rate')\n",
    "plt.title('Favorite Pick Count vs Win Rate Scatter Plot with Linear Regression')\n",
    "plt.legend()\n",
    "\n",
    "# Display the plot\n",
    "plt.grid(True)\n",
    "plt.show()"
   ]
  },
  {
   "cell_type": "code",
   "execution_count": null,
   "id": "af3d1675",
   "metadata": {},
   "outputs": [],
   "source": [
    "# Scatter plot\n",
    "plt.figure(figsize=(10, 6))\n",
    "plt.scatter(Moneyline_df['Favorite Pick Count'], Moneyline_df['Win Rate'], color='blue', label='Data')\n",
    "\n",
    "# Plot linear regression line\n",
    "plt.plot(Moneyline_df['Favorite Pick Count'], intercept + slope * Moneyline_df['Favorite Pick Count'], color='red', label='Linear Regression')\n",
    "\n",
    "# Labeling the plot\n",
    "plt.xlabel('Favorite Pick Count')\n",
    "plt.ylabel('Win Rate')\n",
    "plt.title('Favorite Pick Count vs Win Rate Scatter Plot with Linear Regression')\n",
    "plt.legend()\n",
    "\n",
    "# Display the plot\n",
    "plt.grid(True)\n",
    "\n",
    "# Define the file path\n",
    "file_path = \"../Images/scatter_plot_with_linear_regression.png\"\n",
    "\n",
    "# Save the plot as an image\n",
    "plt.savefig(file_path)"
   ]
  },
  {
   "cell_type": "code",
   "execution_count": null,
   "id": "64cf7464",
   "metadata": {},
   "outputs": [],
   "source": []
  }
 ],
 "metadata": {
  "kernelspec": {
   "display_name": "Python 3 (ipykernel)",
   "language": "python",
   "name": "python3"
  },
  "language_info": {
   "codemirror_mode": {
    "name": "ipython",
    "version": 3
   },
   "file_extension": ".py",
   "mimetype": "text/x-python",
   "name": "python",
   "nbconvert_exporter": "python",
   "pygments_lexer": "ipython3",
   "version": "3.11.5"
  }
 },
 "nbformat": 4,
 "nbformat_minor": 5
}
