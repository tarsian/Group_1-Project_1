{
 "cells": [
  {
   "cell_type": "code",
   "execution_count": null,
   "id": "0ef269a9",
   "metadata": {},
   "outputs": [],
   "source": [
    "import pandas as pd\n",
    "import matplotlib.pyplot as plt\n",
    "import numpy as np\n",
    "from scipy.stats import pearsonr"
   ]
  },
  {
   "cell_type": "code",
   "execution_count": null,
   "id": "ee6b4493",
   "metadata": {},
   "outputs": [],
   "source": [
    "# Load NFL data from CSV file\n",
    "df = pd.read_csv(\"../CSV_files/spreadspoke_scores.csv\")\n",
    "df\n"
   ]
  },
  {
   "cell_type": "code",
   "execution_count": null,
   "id": "058b6add",
   "metadata": {},
   "outputs": [],
   "source": [
    "#Filter out last 5 years (seasons) of data (2019-2020 season thru 2023-2024 season)\n",
    "five_year_df = df[df['schedule_season'] > 2018]\n",
    "#Change former \"Raiders\" team ID to its current ID LVR across all seasons.(2019-2020 Season lists Raiders as LV, not LVR)\n",
    "five_year_df.loc[five_year_df['schedule_season'] > 2018, 'team_favorite_id'] = five_year_df['team_favorite_id'].replace('LV', 'LVR')\n",
    "#Show first 10 rows of filtered results\n",
    "five_year_df.head(10)"
   ]
  },
  {
   "cell_type": "code",
   "execution_count": null,
   "id": "fb0afac4",
   "metadata": {},
   "outputs": [],
   "source": [
    "#Count the number of times each team was picked as a favorite in its game\n",
    "favorite_counts = five_year_df[\"team_favorite_id\"].value_counts()\n",
    "favorite_counts"
   ]
  },
  {
   "cell_type": "code",
   "execution_count": null,
   "id": "ca85b602",
   "metadata": {},
   "outputs": [],
   "source": [
    "#Plot the number of times was picked as a favorite using a barchart\n",
    "plt.figure(figsize=(10, 6))\n",
    "favorite_counts.plot(kind='bar')\n",
    "plt.title('Number of Times Each NFL Team was Picked as Favorite (2019-2023)')\n",
    "plt.xlabel('Team')\n",
    "plt.ylabel('Count')\n",
    "plt.xticks(rotation=45, ha='right')  # Rotate x-axis labels for better readability\n",
    "plt.tight_layout()\n",
    "plt.show()"
   ]
  },
  {
   "cell_type": "code",
   "execution_count": null,
   "id": "97e29278",
   "metadata": {},
   "outputs": [],
   "source": [
    "#get a count of wins for chosen team favorites \n",
    "favorite_wins = five_year_df[five_year_df[\"score_home\"] > five_year_df[\"score_away\"]][\"team_favorite_id\"].value_counts()\n",
    "favorite_wins"
   ]
  },
  {
   "cell_type": "code",
   "execution_count": null,
   "id": "5853832c",
   "metadata": {},
   "outputs": [],
   "source": [
    "#Plot the number of wins for each team favored\n",
    "plt.figure(figsize=(10, 6))\n",
    "favorite_wins.plot(kind='bar')\n",
    "plt.title('Number of Wins for Teams Favored (2019-2023)')\n",
    "plt.xlabel('Team')\n",
    "plt.ylabel('Number of Wins')\n",
    "plt.xticks(rotation=45, ha='right')  # Rotate x-axis labels for better readability\n",
    "plt.tight_layout()\n",
    "plt.show()"
   ]
  },
  {
   "cell_type": "code",
   "execution_count": null,
   "id": "fc85b5a7",
   "metadata": {},
   "outputs": [],
   "source": [
    "#find out what percentage of time the favorite actually wins\n",
    "win_percentage = (favorite_wins / favorite_counts) * 100\n",
    "win_percentage_sorted = win_percentage.sort_values(ascending=False)\n",
    "win_percentage_sorted"
   ]
  },
  {
   "cell_type": "code",
   "execution_count": null,
   "id": "cc43de0c",
   "metadata": {},
   "outputs": [],
   "source": [
    "#plot the top 10 winning percentages of teams most favored\n",
    "plt.figure(figsize=(12, 8))\n",
    "win_percentage_sorted.head(10).plot(kind='bar', color='skyblue')\n",
    "plt.title('Top 10 Winning Percentages of Teams Most Favored (2019-2023)')\n",
    "plt.xlabel('Team')\n",
    "plt.ylabel('Win Percentage')\n",
    "plt.xticks(rotation=45, ha='right')  \n",
    "plt.tight_layout()\n",
    "plt.show()"
   ]
  },
  {
   "cell_type": "code",
   "execution_count": null,
   "id": "260b4795",
   "metadata": {},
   "outputs": [],
   "source": [
    "#Create a DataFrame for the top 10 most picked favorites\n",
    "favorite_counts_df = pd.DataFrame({'Team': favorite_counts.index, 'Count': favorite_counts.values})\n",
    "favorite_counts_df.columns = ['Team', 'Count']\n",
    "print(f\"The top 10 most picked favorites are: {favorite_counts_df.head(10)}\")"
   ]
  },
  {
   "cell_type": "code",
   "execution_count": null,
   "id": "17d03876",
   "metadata": {},
   "outputs": [],
   "source": [
    "# Plotting the top 10 most picked favorites sorted from highest to lowest\n",
    "plt.figure(figsize=(10, 6))\n",
    "plt.bar(favorite_counts_df['Team'].head(10), favorite_counts_df['Count'].head(10))\n",
    "plt.title('Top 10 Most Picked Favorites (2019-2023)')\n",
    "plt.xlabel('Team')\n",
    "plt.ylabel('Count')\n",
    "plt.xticks(rotation=45, ha='right')  # Rotate x-axis labels for better readability\n",
    "plt.tight_layout()\n",
    "plt.show()"
   ]
  },
  {
   "cell_type": "code",
   "execution_count": null,
   "id": "ca449b97",
   "metadata": {},
   "outputs": [],
   "source": [
    "#creating a data frame for winning percentages, as index and winning percentages\n",
    "win_percentage_df = pd.DataFrame({\"Team\" : win_percentage.index, \"Win Percentage\" : win_percentage.values})\n",
    "#renaming columns to Team and Win Percentage\n",
    "win_percentage_df.columns = ['Team', 'Win Percentage']\n",
    "\n",
    "win_percentage_df_sorted = win_percentage_df.sort_values(by='Win Percentage', ascending=False)\n",
    "print(f\"The top 10 winning percentages of teams most favorited are:\\n{win_percentage_df_sorted.head(10)}\")"
   ]
  },
  {
   "cell_type": "code",
   "execution_count": null,
   "id": "126781ff",
   "metadata": {},
   "outputs": [],
   "source": [
    "#Plotting the top 10 winning percentages of teams most favored\n",
    "plt.figure(figsize=(10, 6))\n",
    "plt.bar(win_percentage_df_sorted['Team'].head(10), win_percentage_df_sorted['Win Percentage'].head(10))\n",
    "plt.title('Top 10 Winning Percentages of Teams Most Favored (2019-2023)')\n",
    "plt.xlabel('Team')\n",
    "plt.ylabel('Win Percentage')\n",
    "plt.xticks(rotation=45, ha='right')  # Rotate x-axis labels for better readability\n",
    "plt.tight_layout()\n",
    "plt.show()"
   ]
  },
  {
   "cell_type": "code",
   "execution_count": null,
   "id": "a4128e77",
   "metadata": {},
   "outputs": [],
   "source": [
    "#creating DataFrame which calculates correlation between favorites picked and favorite wins for top 10\n",
    "correlation_df = pd.merge(favorite_counts_df, favorite_wins, left_on='Team', right_index=True, how='outer')\n",
    "correlation_df.columns = ['Team', 'Favorite Picks', 'Favorite Wins']\n",
    "correlation_df['Win Percentage'] = (correlation_df['Favorite Wins'] / correlation_df['Favorite Picks']) * 100\n",
    "correlation_df = correlation_df.sort_values(by='Favorite Picks', ascending=False)\n",
    "print(correlation_df.head(10))"
   ]
  },
  {
   "cell_type": "code",
   "execution_count": null,
   "id": "293cb6f2",
   "metadata": {},
   "outputs": [],
   "source": [
    "#plot the output from the correlation calculation to a scatterplot for the top 10 teams\n",
    "plt.figure(figsize=(10, 6))\n",
    "plt.scatter(correlation_df['Favorite Picks'].head(10), correlation_df['Favorite Wins'].head(10), color='blue', alpha=0.7)\n",
    "plt.title('Correlation Between Favorite Picks and Favorite Wins for Top 10 Teams')\n",
    "plt.xlabel('Favorite Picks')\n",
    "plt.ylabel('Favorite Wins')\n",
    "plt.grid(True)\n",
    "plt.tight_layout()\n",
    "plt.show()\n",
    "pearson_corr, pearson_p_value = pearsonr(correlation_df['Favorite Picks'].head(10), correlation_df['Favorite Wins'].head(10))\n",
    "#calculate Pearson's R to illustrate strength of correlation\n",
    "print(\"Pearson Correlation Coefficient:\", pearson_corr)\n",
    "#calculate the p value to test whether Ho: there is no relationship between picked favorites and favorites who win\n",
    "#is significant at a 95% confidence interval.  At p <.05 we may reject this null hypothesis\n",
    "print(\"Pearson Correlation p-value:\", pearson_p_value)"
   ]
  }
 ],
 "metadata": {
  "kernelspec": {
   "display_name": "dev",
   "language": "python",
   "name": "python3"
  },
  "language_info": {
   "codemirror_mode": {
    "name": "ipython",
    "version": 3
   },
   "file_extension": ".py",
   "mimetype": "text/x-python",
   "name": "python",
   "nbconvert_exporter": "python",
   "pygments_lexer": "ipython3",
   "version": "3.10.13"
  }
 },
 "nbformat": 4,
 "nbformat_minor": 5
}
